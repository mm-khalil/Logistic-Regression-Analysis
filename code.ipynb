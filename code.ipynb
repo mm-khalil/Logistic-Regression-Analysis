{
 "cells": [
  {
   "cell_type": "markdown",
   "id": "f6f4aefd",
   "metadata": {},
   "source": [
    "# TITLE : Logistic Regression Analysis\n",
    
   ]
  },
  {
   "cell_type": "markdown",
   "id": "4a46c732",
   "metadata": {},
   "source": [
    "# Abstract :\n"
   ]
  },
  {
   "cell_type": "markdown",
   "id": "bbc0fc43",
   "metadata": {},
   "source": [
    "Logistic regression is one of the type of statistical analysis which  is used to obtain the likelihood of the events of success and failure.We use Logistic Regression when the variable is binary dependent i.e., (0 or 1,True or false etc.).It is a classification algorithm.Logistic regression has many applications in the field of machine learning.Based on the predictions we can make better choices in business, medical fields,stocks,shares etc by helping us to understand the relations and prdiction of results.In this project , we are performing the logistic regression on the given data of DSCI6002_prj2_data.csv file to display the characteristics of dat and find the likelihood of the events which helps in making better decision."
   ]
  },
  {
   "cell_type": "markdown",
   "id": "521bbb36",
   "metadata": {},
   "source": [
    "# Theory :"
   ]
  },
  {
   "cell_type": "markdown",
   "id": "1d9410c3",
   "metadata": {},
   "source": [
    "Regression analysis is a type of predictive modeling technique which is used to find the relationship between a dependent variable (usually known as the “Y” variable) and either one independent variable (the “X” variable) or a series of independent variables.Logistic regression is a predictive analysis and is widely used technique almost in every industry .Like all the regression models logistic regression is used for description of data , to find and explain the relation between the independent variables and dependent binary variables.\n",
    "\n",
    "                                                 \n",
    "There are three types of Logistic regressions.They are:                                                               \n",
    "1.Binary Logistic Regression :In Binary Logistic Regression,there are just two possible results for the categorical response.\n",
    "2.Multinomial Logistic Regression :in Multinomial Logistic Regression, there are three or more categories without ordering\n",
    "3.Ordinal Logistic Regression :In .Ordinal Logistic Regression,there are three or more categories, each with its own set of rules.\n",
    "\n",
    "Because linear regression is linear in nature, it does not provide a decent fit line for situations with only two values (as seen in the picture). It also provides less accuracy when predicting because it does not cover all datasets.\n",
    "\n",
    "A Curve is necessary for the best fit of categorical datasets, which can be achieved with the help of Logistic Regression, which makes predictions using a Sigmoid function.\n",
    "\n",
    "When dealing with Categorical values, Logistic Regression uses the sigmoid function to produce predictions.It establishes a cut-off point value, usually 0.5, which, when exceeded by the Logistic curve's expected output, yields the respective predicted output in the form of which category the dataset belongs to.\n",
    "In Logistic Regression, there is a lot of math involved.This is the mathematical function that has a 'S-shaped curve.' The Sigmoid Function's value is always between 0 and 1, which is why it's used to handle categorical problems with two possible outcomes."
   ]
  },
  {
   "cell_type": "markdown",
   "id": "c804472c",
   "metadata": {},
   "source": [
    "# Importing Libraries and Data Preparation :"
   ]
  },
  {
   "cell_type": "code",
   "execution_count": 38,
   "id": "5630e5d1",
   "metadata": {
    "scrolled": true
   },
   "outputs": [
    {
     "data": {
      "text/html": [
       "<div>\n",
       "<style scoped>\n",
       "    .dataframe tbody tr th:only-of-type {\n",
       "        vertical-align: middle;\n",
       "    }\n",
       "\n",
       "    .dataframe tbody tr th {\n",
       "        vertical-align: top;\n",
       "    }\n",
       "\n",
       "    .dataframe thead th {\n",
       "        text-align: right;\n",
       "    }\n",
       "</style>\n",
       "<table border=\"1\" class=\"dataframe\">\n",
       "  <thead>\n",
       "    <tr style=\"text-align: right;\">\n",
       "      <th></th>\n",
       "      <th>spam</th>\n",
       "      <th>to_multiple</th>\n",
       "      <th>from</th>\n",
       "      <th>cc</th>\n",
       "      <th>sent_email</th>\n",
       "      <th>time</th>\n",
       "      <th>image</th>\n",
       "      <th>attach</th>\n",
       "      <th>dollar</th>\n",
       "      <th>winner</th>\n",
       "      <th>...</th>\n",
       "      <th>viagra</th>\n",
       "      <th>password</th>\n",
       "      <th>num_char</th>\n",
       "      <th>line_breaks</th>\n",
       "      <th>format</th>\n",
       "      <th>re_subj</th>\n",
       "      <th>exclaim_subj</th>\n",
       "      <th>urgent_subj</th>\n",
       "      <th>exclaim_mess</th>\n",
       "      <th>number</th>\n",
       "    </tr>\n",
       "  </thead>\n",
       "  <tbody>\n",
       "    <tr>\n",
       "      <th>0</th>\n",
       "      <td>0</td>\n",
       "      <td>0</td>\n",
       "      <td>1</td>\n",
       "      <td>0</td>\n",
       "      <td>0</td>\n",
       "      <td>2011-12-31 22:16:41</td>\n",
       "      <td>0</td>\n",
       "      <td>0</td>\n",
       "      <td>0</td>\n",
       "      <td>no</td>\n",
       "      <td>...</td>\n",
       "      <td>0</td>\n",
       "      <td>0</td>\n",
       "      <td>11.370</td>\n",
       "      <td>202</td>\n",
       "      <td>1</td>\n",
       "      <td>0</td>\n",
       "      <td>0</td>\n",
       "      <td>0</td>\n",
       "      <td>0</td>\n",
       "      <td>big</td>\n",
       "    </tr>\n",
       "    <tr>\n",
       "      <th>1</th>\n",
       "      <td>0</td>\n",
       "      <td>0</td>\n",
       "      <td>1</td>\n",
       "      <td>0</td>\n",
       "      <td>0</td>\n",
       "      <td>2011-12-31 23:03:59</td>\n",
       "      <td>0</td>\n",
       "      <td>0</td>\n",
       "      <td>0</td>\n",
       "      <td>no</td>\n",
       "      <td>...</td>\n",
       "      <td>0</td>\n",
       "      <td>0</td>\n",
       "      <td>10.504</td>\n",
       "      <td>202</td>\n",
       "      <td>1</td>\n",
       "      <td>0</td>\n",
       "      <td>0</td>\n",
       "      <td>0</td>\n",
       "      <td>1</td>\n",
       "      <td>small</td>\n",
       "    </tr>\n",
       "    <tr>\n",
       "      <th>2</th>\n",
       "      <td>0</td>\n",
       "      <td>0</td>\n",
       "      <td>1</td>\n",
       "      <td>0</td>\n",
       "      <td>0</td>\n",
       "      <td>2012-01-01 08:00:32</td>\n",
       "      <td>0</td>\n",
       "      <td>0</td>\n",
       "      <td>4</td>\n",
       "      <td>no</td>\n",
       "      <td>...</td>\n",
       "      <td>0</td>\n",
       "      <td>0</td>\n",
       "      <td>7.773</td>\n",
       "      <td>192</td>\n",
       "      <td>1</td>\n",
       "      <td>0</td>\n",
       "      <td>0</td>\n",
       "      <td>0</td>\n",
       "      <td>6</td>\n",
       "      <td>small</td>\n",
       "    </tr>\n",
       "    <tr>\n",
       "      <th>3</th>\n",
       "      <td>0</td>\n",
       "      <td>0</td>\n",
       "      <td>1</td>\n",
       "      <td>0</td>\n",
       "      <td>0</td>\n",
       "      <td>2012-01-01 01:09:49</td>\n",
       "      <td>0</td>\n",
       "      <td>0</td>\n",
       "      <td>0</td>\n",
       "      <td>no</td>\n",
       "      <td>...</td>\n",
       "      <td>0</td>\n",
       "      <td>0</td>\n",
       "      <td>13.256</td>\n",
       "      <td>255</td>\n",
       "      <td>1</td>\n",
       "      <td>0</td>\n",
       "      <td>0</td>\n",
       "      <td>0</td>\n",
       "      <td>48</td>\n",
       "      <td>small</td>\n",
       "    </tr>\n",
       "    <tr>\n",
       "      <th>4</th>\n",
       "      <td>0</td>\n",
       "      <td>0</td>\n",
       "      <td>1</td>\n",
       "      <td>0</td>\n",
       "      <td>0</td>\n",
       "      <td>2012-01-01 02:00:01</td>\n",
       "      <td>0</td>\n",
       "      <td>0</td>\n",
       "      <td>0</td>\n",
       "      <td>no</td>\n",
       "      <td>...</td>\n",
       "      <td>0</td>\n",
       "      <td>2</td>\n",
       "      <td>1.231</td>\n",
       "      <td>29</td>\n",
       "      <td>0</td>\n",
       "      <td>0</td>\n",
       "      <td>0</td>\n",
       "      <td>0</td>\n",
       "      <td>1</td>\n",
       "      <td>none</td>\n",
       "    </tr>\n",
       "  </tbody>\n",
       "</table>\n",
       "<p>5 rows × 21 columns</p>\n",
       "</div>"
      ],
      "text/plain": [
       "   spam  to_multiple  from  cc  sent_email                 time  image  \\\n",
       "0     0            0     1   0           0  2011-12-31 22:16:41      0   \n",
       "1     0            0     1   0           0  2011-12-31 23:03:59      0   \n",
       "2     0            0     1   0           0  2012-01-01 08:00:32      0   \n",
       "3     0            0     1   0           0  2012-01-01 01:09:49      0   \n",
       "4     0            0     1   0           0  2012-01-01 02:00:01      0   \n",
       "\n",
       "   attach  dollar winner  ...  viagra  password  num_char  line_breaks  \\\n",
       "0       0       0     no  ...       0         0    11.370          202   \n",
       "1       0       0     no  ...       0         0    10.504          202   \n",
       "2       0       4     no  ...       0         0     7.773          192   \n",
       "3       0       0     no  ...       0         0    13.256          255   \n",
       "4       0       0     no  ...       0         2     1.231           29   \n",
       "\n",
       "   format  re_subj  exclaim_subj  urgent_subj  exclaim_mess  number  \n",
       "0       1        0             0            0             0     big  \n",
       "1       1        0             0            0             1   small  \n",
       "2       1        0             0            0             6   small  \n",
       "3       1        0             0            0            48   small  \n",
       "4       0        0             0            0             1    none  \n",
       "\n",
       "[5 rows x 21 columns]"
      ]
     },
     "execution_count": 38,
     "metadata": {},
     "output_type": "execute_result"
    }
   ],
   "source": [
    "import pandas as pd\n",
    "import numpy as np\n",
    "import statsmodels.api as sm\n",
    "import seaborn as sns\n",
    "import matplotlib.pyplot as plt\n",
    "import warnings\n",
    "warnings.filterwarnings(\"ignore\")\n",
    "\n",
    "df= pd.read_csv('DSCI6002_prj2_data.csv')\n",
    "df.head()"
   ]
  },
  {
   "cell_type": "code",
   "execution_count": 39,
   "id": "c2655211",
   "metadata": {},
   "outputs": [],
   "source": [
    "df[\"winner\"].replace({\"no\":0,\"yes\":1},inplace=True)\n",
    "df[\"number\"].replace({\"big\":0,\"small\":2,\"none\":1},inplace=True)"
   ]
  },
  {
   "cell_type": "code",
   "execution_count": 40,
   "id": "020da3c4",
   "metadata": {},
   "outputs": [],
   "source": [
    "df[\"years\"]=pd.to_datetime(df[\"time\"]).dt.year\n",
    "df[\"month\"]=pd.to_datetime(df[\"time\"]).dt.month\n",
    "df[\"Day\"]=pd.to_datetime(df[\"time\"]).dt.day\n",
    "df[\"hour\"]=pd.to_datetime(df[\"time\"]).dt.hour\n",
    "df[\"Minute\"]=pd.to_datetime(df[\"time\"]).dt.minute\n",
    "df[\"seconds\"]=pd.to_datetime(df[\"time\"]).dt.second\n",
    "del df[\"time\"]"
   ]
  },
  {
   "cell_type": "code",
   "execution_count": 41,
   "id": "ea913145",
   "metadata": {},
   "outputs": [
    {
     "data": {
      "text/html": [
       "<div>\n",
       "<style scoped>\n",
       "    .dataframe tbody tr th:only-of-type {\n",
       "        vertical-align: middle;\n",
       "    }\n",
       "\n",
       "    .dataframe tbody tr th {\n",
       "        vertical-align: top;\n",
       "    }\n",
       "\n",
       "    .dataframe thead th {\n",
       "        text-align: right;\n",
       "    }\n",
       "</style>\n",
       "<table border=\"1\" class=\"dataframe\">\n",
       "  <thead>\n",
       "    <tr style=\"text-align: right;\">\n",
       "      <th></th>\n",
       "      <th>spam</th>\n",
       "      <th>to_multiple</th>\n",
       "      <th>from</th>\n",
       "      <th>cc</th>\n",
       "      <th>sent_email</th>\n",
       "      <th>image</th>\n",
       "      <th>attach</th>\n",
       "      <th>dollar</th>\n",
       "      <th>winner</th>\n",
       "      <th>inherit</th>\n",
       "      <th>...</th>\n",
       "      <th>exclaim_subj</th>\n",
       "      <th>urgent_subj</th>\n",
       "      <th>exclaim_mess</th>\n",
       "      <th>number</th>\n",
       "      <th>years</th>\n",
       "      <th>month</th>\n",
       "      <th>Day</th>\n",
       "      <th>hour</th>\n",
       "      <th>Minute</th>\n",
       "      <th>seconds</th>\n",
       "    </tr>\n",
       "  </thead>\n",
       "  <tbody>\n",
       "    <tr>\n",
       "      <th>0</th>\n",
       "      <td>0</td>\n",
       "      <td>0</td>\n",
       "      <td>1</td>\n",
       "      <td>0</td>\n",
       "      <td>0</td>\n",
       "      <td>0</td>\n",
       "      <td>0</td>\n",
       "      <td>0</td>\n",
       "      <td>0</td>\n",
       "      <td>0</td>\n",
       "      <td>...</td>\n",
       "      <td>0</td>\n",
       "      <td>0</td>\n",
       "      <td>0</td>\n",
       "      <td>0</td>\n",
       "      <td>2011</td>\n",
       "      <td>12</td>\n",
       "      <td>31</td>\n",
       "      <td>22</td>\n",
       "      <td>16</td>\n",
       "      <td>41</td>\n",
       "    </tr>\n",
       "    <tr>\n",
       "      <th>1</th>\n",
       "      <td>0</td>\n",
       "      <td>0</td>\n",
       "      <td>1</td>\n",
       "      <td>0</td>\n",
       "      <td>0</td>\n",
       "      <td>0</td>\n",
       "      <td>0</td>\n",
       "      <td>0</td>\n",
       "      <td>0</td>\n",
       "      <td>0</td>\n",
       "      <td>...</td>\n",
       "      <td>0</td>\n",
       "      <td>0</td>\n",
       "      <td>1</td>\n",
       "      <td>2</td>\n",
       "      <td>2011</td>\n",
       "      <td>12</td>\n",
       "      <td>31</td>\n",
       "      <td>23</td>\n",
       "      <td>3</td>\n",
       "      <td>59</td>\n",
       "    </tr>\n",
       "    <tr>\n",
       "      <th>2</th>\n",
       "      <td>0</td>\n",
       "      <td>0</td>\n",
       "      <td>1</td>\n",
       "      <td>0</td>\n",
       "      <td>0</td>\n",
       "      <td>0</td>\n",
       "      <td>0</td>\n",
       "      <td>4</td>\n",
       "      <td>0</td>\n",
       "      <td>1</td>\n",
       "      <td>...</td>\n",
       "      <td>0</td>\n",
       "      <td>0</td>\n",
       "      <td>6</td>\n",
       "      <td>2</td>\n",
       "      <td>2012</td>\n",
       "      <td>1</td>\n",
       "      <td>1</td>\n",
       "      <td>8</td>\n",
       "      <td>0</td>\n",
       "      <td>32</td>\n",
       "    </tr>\n",
       "    <tr>\n",
       "      <th>3</th>\n",
       "      <td>0</td>\n",
       "      <td>0</td>\n",
       "      <td>1</td>\n",
       "      <td>0</td>\n",
       "      <td>0</td>\n",
       "      <td>0</td>\n",
       "      <td>0</td>\n",
       "      <td>0</td>\n",
       "      <td>0</td>\n",
       "      <td>0</td>\n",
       "      <td>...</td>\n",
       "      <td>0</td>\n",
       "      <td>0</td>\n",
       "      <td>48</td>\n",
       "      <td>2</td>\n",
       "      <td>2012</td>\n",
       "      <td>1</td>\n",
       "      <td>1</td>\n",
       "      <td>1</td>\n",
       "      <td>9</td>\n",
       "      <td>49</td>\n",
       "    </tr>\n",
       "    <tr>\n",
       "      <th>4</th>\n",
       "      <td>0</td>\n",
       "      <td>0</td>\n",
       "      <td>1</td>\n",
       "      <td>0</td>\n",
       "      <td>0</td>\n",
       "      <td>0</td>\n",
       "      <td>0</td>\n",
       "      <td>0</td>\n",
       "      <td>0</td>\n",
       "      <td>0</td>\n",
       "      <td>...</td>\n",
       "      <td>0</td>\n",
       "      <td>0</td>\n",
       "      <td>1</td>\n",
       "      <td>1</td>\n",
       "      <td>2012</td>\n",
       "      <td>1</td>\n",
       "      <td>1</td>\n",
       "      <td>2</td>\n",
       "      <td>0</td>\n",
       "      <td>1</td>\n",
       "    </tr>\n",
       "  </tbody>\n",
       "</table>\n",
       "<p>5 rows × 26 columns</p>\n",
       "</div>"
      ],
      "text/plain": [
       "   spam  to_multiple  from  cc  sent_email  image  attach  dollar  winner  \\\n",
       "0     0            0     1   0           0      0       0       0       0   \n",
       "1     0            0     1   0           0      0       0       0       0   \n",
       "2     0            0     1   0           0      0       0       4       0   \n",
       "3     0            0     1   0           0      0       0       0       0   \n",
       "4     0            0     1   0           0      0       0       0       0   \n",
       "\n",
       "   inherit  ...  exclaim_subj  urgent_subj  exclaim_mess  number  years  \\\n",
       "0        0  ...             0            0             0       0   2011   \n",
       "1        0  ...             0            0             1       2   2011   \n",
       "2        1  ...             0            0             6       2   2012   \n",
       "3        0  ...             0            0            48       2   2012   \n",
       "4        0  ...             0            0             1       1   2012   \n",
       "\n",
       "   month  Day  hour  Minute  seconds  \n",
       "0     12   31    22      16       41  \n",
       "1     12   31    23       3       59  \n",
       "2      1    1     8       0       32  \n",
       "3      1    1     1       9       49  \n",
       "4      1    1     2       0        1  \n",
       "\n",
       "[5 rows x 26 columns]"
      ]
     },
     "execution_count": 41,
     "metadata": {},
     "output_type": "execute_result"
    }
   ],
   "source": [
    "df.head()"
   ]
  },
  {
   "cell_type": "markdown",
   "id": "0cd5925e",
   "metadata": {},
   "source": [
    "# Exploratory Data Analysis"
   ]
  },
  {
   "cell_type": "markdown",
   "id": "548b337c",
   "metadata": {},
   "source": [
    "In this step, we get deep into the data and analyze about the characteristics so we can proceed further for logistic regression"
   ]
  },
  {
   "cell_type": "code",
   "execution_count": 42,
   "id": "48ef128f",
   "metadata": {},
   "outputs": [
    {
     "data": {
      "text/plain": [
       "<matplotlib.axes._subplots.AxesSubplot at 0x252177176c8>"
      ]
     },
     "execution_count": 42,
     "metadata": {},
     "output_type": "execute_result"
    },
    {
     "data": {
      "image/png": "iVBORw0KGgoAAAANSUhEUgAAAYsAAAEGCAYAAACUzrmNAAAABHNCSVQICAgIfAhkiAAAAAlwSFlzAAALEgAACxIB0t1+/AAAADh0RVh0U29mdHdhcmUAbWF0cGxvdGxpYiB2ZXJzaW9uMy4xLjMsIGh0dHA6Ly9tYXRwbG90bGliLm9yZy+AADFEAAAS9UlEQVR4nO3df6zd9X3f8ecrNpCqzQqUG+bYzoxSby1pFpPeAVs0jZEMDFMLjZoWpDYeQ3I2wdRIVVaopsKSsrVrUpakKZIrHEzbQT3SLG5KQ12aLIpWfpjWBQxl3BEWbszAqQlJxsZi8t4f53OVE/ve+zmxfe65zn0+pKPz/b6/n+/3vC+y7ovvj/O5qSokSVrMqybdgCRp+TMsJEldhoUkqcuwkCR1GRaSpK7Vk25gHM4444zasGHDpNuQpBPKQw899OWqmppv23dlWGzYsIE9e/ZMug1JOqEk+Z8LbfMylCSpy7CQJHUZFpKkLsNCktRlWEiSugwLSVKXYSFJ6jIsJEldhoUkqWts3+BO8mrgc8Ap7XPuqqobktwG/CPgxTb0n1XV3iQBPgRcCrzU6n/ejrUF+Ddt/C9X1Y5x9T3nR997+7g/Qiegh37tXZNuQZqIcU738TJwYVV9PclJwOeT/FHb9t6quuuw8ZcAG9vrPOAW4LwkpwM3ANNAAQ8l2VVVL4yxd0nSkLFdhqqBr7fVk9prsb/hehlwe9vvPuDUJGuAi4HdVXWwBcRuYPO4+pYkHWms9yySrEqyF3iewS/8+9umm5I8nOTmJKe02lrgmaHdZ1ttofrhn7U1yZ4kew4cOHDcfxZJWsnGGhZV9UpVbQLWAecm+RHgeuCHgL8HnA78Qhue+Q6xSP3wz9pWVdNVNT01Ne8Mu5Kko7QkT0NV1VeAzwKbq+rZdqnpZeBjwLlt2Cywfmi3dcD+ReqSpCUytrBIMpXk1Lb8PcDbgb9q9yFoTz9dDjzadtkFvCsD5wMvVtWzwD3ARUlOS3IacFGrSZKWyDifhloD7EiyikEo7ayqTyX50yRTDC4v7QX+RRt/N4PHZmcYPDp7FUBVHUzyfuDBNu59VXVwjH1Lkg4ztrCoqoeBc+apX7jA+AKuWWDbdmD7cW1QkjQyv8EtSeoyLCRJXYaFJKnLsJAkdRkWkqQuw0KS1GVYSJK6DAtJUpdhIUnqMiwkSV2GhSSpy7CQJHUZFpKkLsNCktRlWEiSugwLSVKXYSFJ6jIsJEldhoUkqcuwkCR1jS0skrw6yQNJ/jLJviT/ttXPSnJ/kieT/F6Sk1v9lLY+07ZvGDrW9a3+RJKLx9WzJGl+4zyzeBm4sKreDGwCNic5H/hV4Oaq2gi8AFzdxl8NvFBVPwjc3MaR5GzgCuCNwGbgN5OsGmPfkqTDjC0sauDrbfWk9irgQuCuVt8BXN6WL2vrtO1vS5JWv7OqXq6qLwAzwLnj6luSdKSx3rNIsirJXuB5YDfwP4CvVNWhNmQWWNuW1wLPALTtLwI/MFyfZ5/hz9qaZE+SPQcOHBjHjyNJK9ZYw6KqXqmqTcA6BmcDPzzfsPaeBbYtVD/8s7ZV1XRVTU9NTR1ty5KkeSzJ01BV9RXgs8D5wKlJVrdN64D9bXkWWA/Qtn8/cHC4Ps8+kqQlMM6noaaSnNqWvwd4O/A48BngJ9uwLcAn2/Kutk7b/qdVVa1+RXta6ixgI/DAuPqWJB1pdX/IUVsD7GhPLr0K2FlVn0ryGHBnkl8G/gK4tY2/FfjtJDMMziiuAKiqfUl2Ao8Bh4BrquqVMfYtSTrM2MKiqh4Gzpmn/hTzPM1UVf8XeOcCx7oJuOl49yhJGo3f4JYkdRkWkqQuw0KS1GVYSJK6DAtJUpdhIUnqMiwkSV2GhSSpy7CQJHUZFpKkLsNCktRlWEiSugwLSVKXYSFJ6jIsJEldhoUkqcuwkCR1GRaSpC7DQpLUZVhIkrrGFhZJ1if5TJLHk+xL8nOtfmOSLyXZ216XDu1zfZKZJE8kuXiovrnVZpJcN66eJUnzWz3GYx8Cfr6q/jzJa4CHkuxu226uqg8MD05yNnAF8EbgdcCfJPnbbfNHgX8CzAIPJtlVVY+NsXdJ0pCxhUVVPQs825a/luRxYO0iu1wG3FlVLwNfSDIDnNu2zVTVUwBJ7mxjDQtJWiJLcs8iyQbgHOD+Vro2ycNJtic5rdXWAs8M7TbbagvVD/+MrUn2JNlz4MCB4/wTSNLKNvawSPJ9wMeB91TVV4FbgDcAmxiceXxwbug8u9ci9W8vVG2rqumqmp6amjouvUuSBsZ5z4IkJzEIit+tqt8HqKrnhrb/FvCptjoLrB/afR2wvy0vVJckLYFxPg0V4Fbg8ar69aH6mqFhPwE82pZ3AVckOSXJWcBG4AHgQWBjkrOSnMzgJviucfUtSTrSOM8s3gr8LPBIkr2t9ovAlUk2MbiU9DTwboCq2pdkJ4Mb14eAa6rqFYAk1wL3AKuA7VW1b4x9S5IOM86noT7P/Pcb7l5kn5uAm+ap373YfpKk8fIb3JKkLsNCktRlWEiSugwLSVKXYSFJ6jIsJEldhoUkqcuwkCR1GRaSpC7DQpLUZVhIkroMC0lSl2EhSeoyLCRJXYaFJKnLsJAkdRkWkqQuw0KS1GVYSJK6DAtJUtdIYZHk3lFqh21fn+QzSR5Psi/Jz7X66Ul2J3myvZ/W6kny4SQzSR5O8pahY21p459MsuU7+xElScdq0bBI8uokpwNnJDmt/aI/PckG4HWdYx8Cfr6qfhg4H7gmydnAdcC9VbURuLetA1wCbGyvrcAtrYfTgRuA84BzgRvmAkaStDRWd7a/G3gPg2B4CEirfxX46GI7VtWzwLNt+WtJHgfWApcBF7RhO4DPAr/Q6rdXVQH3JTk1yZo2dndVHQRIshvYDNwx6g8pSTo2i4ZFVX0I+FCSf1VVHznaD2lnIucA9wNntiChqp5N8to2bC3wzNBus622UP3wz9jK4IyE17/+9UfbqiRpHr0zCwCq6iNJ/gGwYXifqrq9t2+S7wM+Drynqr6aZMGh8330IvXDe9wGbAOYnp4+Yrsk6eiNFBZJfht4A7AXeKWVC1g0LJKcxCAofreqfr+Vn0uypp1VrAGeb/VZYP3Q7uuA/a1+wWH1z47StyTp+BgpLIBp4Ox2P2EkGZxC3Ao8XlW/PrRpF7AF+JX2/smh+rVJ7mRwM/vFFij3AP9u6Kb2RcD1o/YhSTp2o4bFo8DfpN2wHtFbgZ8FHkmyt9V+kUFI7ExyNfBF4J1t293ApcAM8BJwFUBVHUzyfuDBNu59cze7JUlLY9SwOAN4LMkDwMtzxar68YV2qKrPM//9BoC3zTO+gGsWONZ2YPuIvUqSjrNRw+LGcTYhSVreRn0a6r+OuxFJ0vI16tNQX+Nbj6ueDJwE/O+q+hvjakyStHyMembxmuH1JJczmHpDkrQCHNWss1X1X4ALj3MvkqRlatTLUO8YWn0Vg+9d+C1pSVohRn0a6seGlg8BTzOY+E+StAKMes/iqnE3Iklavkb940frknwiyfNJnkvy8STrxt2cJGl5GPUG98cYzN30OgbTg/9Bq0mSVoBRw2Kqqj5WVYfa6zZgaox9SZKWkVHD4stJfibJqvb6GeCvx9mYJGn5GDUs/jnwU8D/YjDz7E/SZoWVJH33G/XR2fcDW6rqBYAkpwMfYBAikqTvcqOeWfzduaCAwd+YYPA3tSVJK8CoYfGqob9UN3dmMepZiSTpBDfqL/wPAv8tyV0Mpvn4KeCmsXUlSVpWRv0G9+1J9jCYPDDAO6rqsbF2JklaNka+lNTCwYCQpBXoqKYolyStLGMLiyTb21xSjw7VbkzypSR72+vSoW3XJ5lJ8kSSi4fqm1ttJsl14+pXkrSwcZ5Z3AZsnqd+c1Vtaq+7AZKcDVwBvLHt85tz3xYHPgpcApwNXNnGSpKW0Ngef62qzyXZMOLwy4A7q+pl4AtJZvjWn22dqaqnAJLc2cZ670SSltAk7llcm+Thdplq7rsba4FnhsbMttpC9SMk2ZpkT5I9Bw4cGEffkrRiLXVY3AK8AdjEYI6pD7Z65hlbi9SPLFZtq6rpqpqemnJCXEk6npb0W9hV9dzccpLfAj7VVmeB9UND1wH72/JCdUnSElnSM4ska4ZWfwKYe1JqF3BFklOSnAVsBB4AHgQ2JjkryckMboLvWsqeJUljPLNIcgdwAXBGklngBuCCJJsYXEp6Gng3QFXtS7KTwY3rQ8A1VfVKO861wD3AKmB7Ve0bV8+SpPmN82moK+cp37rI+JuYZ76p9njt3cexNUnSd8hvcEuSugwLSVKXYSFJ6jIsJEldhoUkqcuwkCR1GRaSpC7DQpLUZVhIkroMC0lSl2EhSeoyLCRJXYaFJKnLsJAkdRkWkqQuw0KS1GVYSJK6DAtJUpdhIUnqMiwkSV1jC4sk25M8n+TRodrpSXYnebK9n9bqSfLhJDNJHk7ylqF9trTxTybZMq5+JUkLG+eZxW3A5sNq1wH3VtVG4N62DnAJsLG9tgK3wCBcgBuA84BzgRvmAkaStHTGFhZV9Tng4GHly4AdbXkHcPlQ/fYauA84Ncka4GJgd1UdrKoXgN0cGUCSpDFb6nsWZ1bVswDt/bWtvhZ4ZmjcbKstVJckLaHlcoM789RqkfqRB0i2JtmTZM+BAweOa3OStNItdVg81y4v0d6fb/VZYP3QuHXA/kXqR6iqbVU1XVXTU1NTx71xSVrJljosdgFzTzRtAT45VH9XeyrqfODFdpnqHuCiJKe1G9sXtZokaQmtHteBk9wBXACckWSWwVNNvwLsTHI18EXgnW343cClwAzwEnAVQFUdTPJ+4ME27n1VdfhNc0nSmI0tLKrqygU2vW2esQVcs8BxtgPbj2NrkqTv0HK5wS1JWsYMC0lSl2EhSeoyLCRJXYaFJKnLsJAkdRkWkqQuw0KS1GVYSJK6DAtJUpdhIUnqMiwkSV2GhSSpy7CQJHUZFpKkLsNCktRlWEiSugwLSVKXYSFJ6jIsJEldhoUkqWsiYZHk6SSPJNmbZE+rnZ5kd5In2/tprZ4kH04yk+ThJG+ZRM+StJJN8sziH1fVpqqabuvXAfdW1Ubg3rYOcAmwsb22ArcseaeStMItp8tQlwE72vIO4PKh+u01cB9wapI1k2hQklaqSYVFAX+c5KEkW1vtzKp6FqC9v7bV1wLPDO0722rfJsnWJHuS7Dlw4MAYW5eklWf1hD73rVW1P8lrgd1J/mqRsZmnVkcUqrYB2wCmp6eP2C5JOnoTObOoqv3t/XngE8C5wHNzl5fa+/Nt+Cywfmj3dcD+petWkrTkYZHke5O8Zm4ZuAh4FNgFbGnDtgCfbMu7gHe1p6LOB16cu1wlSVoak7gMdSbwiSRzn/+fqurTSR4Edia5Gvgi8M42/m7gUmAGeAm4aulblqSVbcnDoqqeAt48T/2vgbfNUy/gmiVoTZK0gOX06KwkaZma1NNQko7BF9/3pkm3oGXo9b/0yNiO7ZmFJKnLsJAkdRkWkqQuw0KS1GVYSJK6DAtJUpdhIUnqMiwkSV2GhSSpy7CQJHUZFpKkLsNCktRlWEiSugwLSVKXYSFJ6jIsJEldhoUkqcuwkCR1nTBhkWRzkieSzCS5btL9SNJKckKERZJVwEeBS4CzgSuTnD3ZriRp5TghwgI4F5ipqqeq6v8BdwKXTbgnSVoxVk+6gRGtBZ4ZWp8FzhsekGQrsLWtfj3JE0vU20pwBvDlSTexHOQDWybdgo7kv885N+RYj/C3FtpwooTFfP8F6ttWqrYB25amnZUlyZ6qmp50H9J8/Pe5NE6Uy1CzwPqh9XXA/gn1IkkrzokSFg8CG5OcleRk4Apg14R7kqQV44S4DFVVh5JcC9wDrAK2V9W+Cbe1knh5T8uZ/z6XQKqqP0qStKKdKJehJEkTZFhIkroMCy3KaVa0HCXZnuT5JI9OupeVwrDQgpxmRcvYbcDmSTexkhgWWozTrGhZqqrPAQcn3cdKYlhoMfNNs7J2Qr1ImiDDQovpTrMiaWUwLLQYp1mRBBgWWpzTrEgCDAstoqoOAXPTrDwO7HSaFS0HSe4A/gz4O0lmk1w96Z6+2zndhySpyzMLSVKXYSFJ6jIsJEldhoUkqcuwkCR1GRaSpC7DQpLUZVhIxyDJ9yb5wyR/meTRJD+d5Okkv5rkgfb6wTb2x5Lcn+QvkvxJkjNb/cYkO5L8cdv3HUn+Q5JHknw6yUmT/Sklw0I6VpuB/VX15qr6EeDTrf7VqjoX+A3gP7ba54Hzq+ocBtO9/+uh47wB+KcMpoD/HeAzVfUm4P+0ujRRhoV0bB4B3t7OJP5hVb3Y6ncMvf/9trwOuCfJI8B7gTcOHeePquob7Xir+FboPAJsGGP/0kgMC+kYVNV/B36UwS/1f5/kl+Y2DQ9r7x8BfqOdMbwbePXQmJfb8b4JfKO+NQ/PN4HVY2pfGplhIR2DJK8DXqqq3wE+ALylbfrpofc/a8vfD3ypLW9Zsial48D/Y5GOzZuAX0vyTeAbwL8E7gJOSXI/g/8hu7KNvRH4z0m+BNwHnLX07UpHx1lnpeMsydPAdFV9edK9SMeLl6EkSV2eWUiSujyzkCR1GRaSpC7DQpLUZVhIkroMC0lS1/8H7TgeM0hvxL8AAAAASUVORK5CYII=\n",
      "text/plain": [
       "<Figure size 432x288 with 1 Axes>"
      ]
     },
     "metadata": {
      "needs_background": "light"
     },
     "output_type": "display_data"
    }
   ],
   "source": [
    "sns.countplot(df[\"spam\"])"
   ]
  },
  {
   "cell_type": "code",
   "execution_count": 43,
   "id": "3f95ef62",
   "metadata": {},
   "outputs": [
    {
     "data": {
      "text/plain": [
       "<matplotlib.axes._subplots.AxesSubplot at 0x25218738288>"
      ]
     },
     "execution_count": 43,
     "metadata": {},
     "output_type": "execute_result"
    },
    {
     "data": {
      "image/png": "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\n",
      "text/plain": [
       "<Figure size 432x288 with 1 Axes>"
      ]
     },
     "metadata": {
      "needs_background": "light"
     },
     "output_type": "display_data"
    }
   ],
   "source": [
    "sns.distplot(df[\"hour\"])"
   ]
  },
  {
   "cell_type": "code",
   "execution_count": 44,
   "id": "7f97d272",
   "metadata": {},
   "outputs": [
    {
     "data": {
      "text/plain": [
       "<matplotlib.axes._subplots.AxesSubplot at 0x252187ddb88>"
      ]
     },
     "execution_count": 44,
     "metadata": {},
     "output_type": "execute_result"
    },
    {
     "data": {
      "image/png": "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\n",
      "text/plain": [
       "<Figure size 432x288 with 1 Axes>"
      ]
     },
     "metadata": {
      "needs_background": "light"
     },
     "output_type": "display_data"
    }
   ],
   "source": [
    "sns.countplot(x=df[\"years\"],hue=df[\"spam\"])"
   ]
  },
  {
   "cell_type": "code",
   "execution_count": 45,
   "id": "76dc222a",
   "metadata": {},
   "outputs": [
    {
     "data": {
      "text/plain": [
       "<matplotlib.axes._subplots.AxesSubplot at 0x2521882ce08>"
      ]
     },
     "execution_count": 45,
     "metadata": {},
     "output_type": "execute_result"
    },
    {
     "data": {
      "image/png": "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\n",
      "text/plain": [
       "<Figure size 432x288 with 1 Axes>"
      ]
     },
     "metadata": {
      "needs_background": "light"
     },
     "output_type": "display_data"
    }
   ],
   "source": [
    "sns.countplot(x=df[\"years\"],hue=df[\"sent_email\"],dodge=False)"
   ]
  },
  {
   "cell_type": "code",
   "execution_count": 46,
   "id": "12bd88a8",
   "metadata": {},
   "outputs": [
    {
     "data": {
      "text/plain": [
       "<matplotlib.axes._subplots.AxesSubplot at 0x252188e4f08>"
      ]
     },
     "execution_count": 46,
     "metadata": {},
     "output_type": "execute_result"
    },
    {
     "data": {
      "image/png": "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\n",
      "text/plain": [
       "<Figure size 432x288 with 1 Axes>"
      ]
     },
     "metadata": {
      "needs_background": "light"
     },
     "output_type": "display_data"
    }
   ],
   "source": [
    "sns.scatterplot(df[\"month\"],df[\"exclaim_mess\"])"
   ]
  },
  {
   "cell_type": "code",
   "execution_count": 47,
   "id": "08658505",
   "metadata": {},
   "outputs": [
    {
     "data": {
      "text/plain": [
       "<matplotlib.axes._subplots.AxesSubplot at 0x2521895cd88>"
      ]
     },
     "execution_count": 47,
     "metadata": {},
     "output_type": "execute_result"
    },
    {
     "data": {
      "image/png": "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\n",
      "text/plain": [
       "<Figure size 432x288 with 1 Axes>"
      ]
     },
     "metadata": {
      "needs_background": "light"
     },
     "output_type": "display_data"
    }
   ],
   "source": [
    "sns.distplot(df[\"hour\"])"
   ]
  },
  {
   "cell_type": "code",
   "execution_count": 58,
   "id": "111a247e",
   "metadata": {},
   "outputs": [
    {
     "data": {
      "text/plain": [
       "<matplotlib.axes._subplots.AxesSubplot at 0x252189f6a48>"
      ]
     },
     "execution_count": 58,
     "metadata": {},
     "output_type": "execute_result"
    },
    {
     "data": {
      "image/png": "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\n",
      "text/plain": [
       "<Figure size 576x576 with 1 Axes>"
      ]
     },
     "metadata": {
      "needs_background": "light"
     },
     "output_type": "display_data"
    }
   ],
   "source": [
    "df.boxplot(column=['line_breaks'],by='winner',grid=False,figsize=(8,8),fontsize=20)"
   ]
  },
  {
   "cell_type": "code",
   "execution_count": 56,
   "id": "b085c3ac",
   "metadata": {},
   "outputs": [
    {
     "data": {
      "image/png": "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\n",
      "text/plain": [
       "<Figure size 432x288 with 1 Axes>"
      ]
     },
     "metadata": {},
     "output_type": "display_data"
    }
   ],
   "source": [
    "a= df[\"spam\"].value_counts(normalize=True).plot.pie()"
   ]
  },
  {
   "cell_type": "markdown",
   "id": "b4ada82b",
   "metadata": {},
   "source": [
    "# Regression Model:"
   ]
  },
  {
   "cell_type": "code",
   "execution_count": 48,
   "id": "e10fa3b7",
   "metadata": {},
   "outputs": [
    {
     "data": {
      "text/html": [
       "<div>\n",
       "<style scoped>\n",
       "    .dataframe tbody tr th:only-of-type {\n",
       "        vertical-align: middle;\n",
       "    }\n",
       "\n",
       "    .dataframe tbody tr th {\n",
       "        vertical-align: top;\n",
       "    }\n",
       "\n",
       "    .dataframe thead th {\n",
       "        text-align: right;\n",
       "    }\n",
       "</style>\n",
       "<table border=\"1\" class=\"dataframe\">\n",
       "  <thead>\n",
       "    <tr style=\"text-align: right;\">\n",
       "      <th></th>\n",
       "      <th>spam</th>\n",
       "    </tr>\n",
       "  </thead>\n",
       "  <tbody>\n",
       "    <tr>\n",
       "      <th>0</th>\n",
       "      <td>0.0</td>\n",
       "    </tr>\n",
       "    <tr>\n",
       "      <th>1</th>\n",
       "      <td>0.0</td>\n",
       "    </tr>\n",
       "    <tr>\n",
       "      <th>2</th>\n",
       "      <td>0.0</td>\n",
       "    </tr>\n",
       "    <tr>\n",
       "      <th>3</th>\n",
       "      <td>0.0</td>\n",
       "    </tr>\n",
       "    <tr>\n",
       "      <th>4</th>\n",
       "      <td>0.0</td>\n",
       "    </tr>\n",
       "  </tbody>\n",
       "</table>\n",
       "</div>"
      ],
      "text/plain": [
       "   spam\n",
       "0   0.0\n",
       "1   0.0\n",
       "2   0.0\n",
       "3   0.0\n",
       "4   0.0"
      ]
     },
     "execution_count": 48,
     "metadata": {},
     "output_type": "execute_result"
    }
   ],
   "source": [
    "from patsy import dmatrices\n",
    "Y,X=dmatrices(\"spam ~ winner + years + image + attach + inherit + urgent_subj + number\",df,return_type=\"dataframe\")\n",
    "Y.head()"
   ]
  },
  {
   "cell_type": "code",
   "execution_count": 49,
   "id": "fe67e575",
   "metadata": {},
   "outputs": [
    {
     "data": {
      "text/html": [
       "<div>\n",
       "<style scoped>\n",
       "    .dataframe tbody tr th:only-of-type {\n",
       "        vertical-align: middle;\n",
       "    }\n",
       "\n",
       "    .dataframe tbody tr th {\n",
       "        vertical-align: top;\n",
       "    }\n",
       "\n",
       "    .dataframe thead th {\n",
       "        text-align: right;\n",
       "    }\n",
       "</style>\n",
       "<table border=\"1\" class=\"dataframe\">\n",
       "  <thead>\n",
       "    <tr style=\"text-align: right;\">\n",
       "      <th></th>\n",
       "      <th>Intercept</th>\n",
       "      <th>winner</th>\n",
       "      <th>years</th>\n",
       "      <th>image</th>\n",
       "      <th>attach</th>\n",
       "      <th>inherit</th>\n",
       "      <th>urgent_subj</th>\n",
       "      <th>number</th>\n",
       "    </tr>\n",
       "  </thead>\n",
       "  <tbody>\n",
       "    <tr>\n",
       "      <th>0</th>\n",
       "      <td>1.0</td>\n",
       "      <td>0.0</td>\n",
       "      <td>2011.0</td>\n",
       "      <td>0.0</td>\n",
       "      <td>0.0</td>\n",
       "      <td>0.0</td>\n",
       "      <td>0.0</td>\n",
       "      <td>0.0</td>\n",
       "    </tr>\n",
       "    <tr>\n",
       "      <th>1</th>\n",
       "      <td>1.0</td>\n",
       "      <td>0.0</td>\n",
       "      <td>2011.0</td>\n",
       "      <td>0.0</td>\n",
       "      <td>0.0</td>\n",
       "      <td>0.0</td>\n",
       "      <td>0.0</td>\n",
       "      <td>2.0</td>\n",
       "    </tr>\n",
       "    <tr>\n",
       "      <th>2</th>\n",
       "      <td>1.0</td>\n",
       "      <td>0.0</td>\n",
       "      <td>2012.0</td>\n",
       "      <td>0.0</td>\n",
       "      <td>0.0</td>\n",
       "      <td>1.0</td>\n",
       "      <td>0.0</td>\n",
       "      <td>2.0</td>\n",
       "    </tr>\n",
       "    <tr>\n",
       "      <th>3</th>\n",
       "      <td>1.0</td>\n",
       "      <td>0.0</td>\n",
       "      <td>2012.0</td>\n",
       "      <td>0.0</td>\n",
       "      <td>0.0</td>\n",
       "      <td>0.0</td>\n",
       "      <td>0.0</td>\n",
       "      <td>2.0</td>\n",
       "    </tr>\n",
       "    <tr>\n",
       "      <th>4</th>\n",
       "      <td>1.0</td>\n",
       "      <td>0.0</td>\n",
       "      <td>2012.0</td>\n",
       "      <td>0.0</td>\n",
       "      <td>0.0</td>\n",
       "      <td>0.0</td>\n",
       "      <td>0.0</td>\n",
       "      <td>1.0</td>\n",
       "    </tr>\n",
       "  </tbody>\n",
       "</table>\n",
       "</div>"
      ],
      "text/plain": [
       "   Intercept  winner   years  image  attach  inherit  urgent_subj  number\n",
       "0        1.0     0.0  2011.0    0.0     0.0      0.0          0.0     0.0\n",
       "1        1.0     0.0  2011.0    0.0     0.0      0.0          0.0     2.0\n",
       "2        1.0     0.0  2012.0    0.0     0.0      1.0          0.0     2.0\n",
       "3        1.0     0.0  2012.0    0.0     0.0      0.0          0.0     2.0\n",
       "4        1.0     0.0  2012.0    0.0     0.0      0.0          0.0     1.0"
      ]
     },
     "execution_count": 49,
     "metadata": {},
     "output_type": "execute_result"
    }
   ],
   "source": [
    "X.head(5)"
   ]
  },
  {
   "cell_type": "markdown",
   "id": "602cc03f",
   "metadata": {},
   "source": [
    "# Performing the Statsmodels:"
   ]
  },
  {
   "cell_type": "code",
   "execution_count": 51,
   "id": "c2806958",
   "metadata": {},
   "outputs": [
    {
     "name": "stdout",
     "output_type": "stream",
     "text": [
      "Warning: Maximum number of iterations has been exceeded.\n",
      "         Current function value: 0.312345\n",
      "         Iterations: 35\n",
      "                           Logit Regression Results                           \n",
      "==============================================================================\n",
      "Dep. Variable:                   spam   No. Observations:                 3921\n",
      "Model:                          Logit   Df Residuals:                     3913\n",
      "Method:                           MLE   Df Model:                            7\n",
      "Date:                Fri, 03 Dec 2021   Pseudo R-squ.:               -0.005018\n",
      "Time:                        23:22:29   Log-Likelihood:                -1224.7\n",
      "converged:                      False   LL-Null:                       -1218.6\n",
      "Covariance Type:            nonrobust   LLR p-value:                     1.000\n",
      "===============================================================================\n",
      "                  coef    std err          z      P>|z|      [0.025      0.975]\n",
      "-------------------------------------------------------------------------------\n",
      "Intercept    7.638e+04        nan        nan        nan         nan         nan\n",
      "winner          1.6159      0.284      5.699      0.000       1.060       2.172\n",
      "years         -37.9624        nan        nan        nan         nan         nan\n",
      "image          -3.7592      1.118     -3.362      0.001      -5.950      -1.568\n",
      "attach          0.5402      0.094      5.735      0.000       0.356       0.725\n",
      "inherit         0.2699      0.147      1.836      0.066      -0.018       0.558\n",
      "urgent_subj     2.6022      0.777      3.350      0.001       1.080       4.125\n",
      "number         -0.4838      0.068     -7.113      0.000      -0.617      -0.350\n",
      "===============================================================================\n"
     ]
    }
   ],
   "source": [
    "log=sm.Logit(Y,x)\n",
    "log1=log.fit()\n",
    "print(log1.summary())"
   ]
  },
  {
   "cell_type": "markdown",
   "id": "985906a4",
   "metadata": {},
   "source": [
    "# Predictions:"
   ]
  },
  {
   "cell_type": "code",
   "execution_count": 52,
   "id": "ab8088aa",
   "metadata": {},
   "outputs": [
    {
     "data": {
      "text/html": [
       "<div>\n",
       "<style scoped>\n",
       "    .dataframe tbody tr th:only-of-type {\n",
       "        vertical-align: middle;\n",
       "    }\n",
       "\n",
       "    .dataframe tbody tr th {\n",
       "        vertical-align: top;\n",
       "    }\n",
       "\n",
       "    .dataframe thead th {\n",
       "        text-align: right;\n",
       "    }\n",
       "</style>\n",
       "<table border=\"1\" class=\"dataframe\">\n",
       "  <thead>\n",
       "    <tr style=\"text-align: right;\">\n",
       "      <th></th>\n",
       "      <th>Prediction for spam 0</th>\n",
       "    </tr>\n",
       "  </thead>\n",
       "  <tbody>\n",
       "    <tr>\n",
       "      <th>0</th>\n",
       "      <td>1.0</td>\n",
       "    </tr>\n",
       "    <tr>\n",
       "      <th>1</th>\n",
       "      <td>1.0</td>\n",
       "    </tr>\n",
       "    <tr>\n",
       "      <th>2</th>\n",
       "      <td>1.0</td>\n",
       "    </tr>\n",
       "    <tr>\n",
       "      <th>3</th>\n",
       "      <td>1.0</td>\n",
       "    </tr>\n",
       "    <tr>\n",
       "      <th>4</th>\n",
       "      <td>1.0</td>\n",
       "    </tr>\n",
       "    <tr>\n",
       "      <th>5</th>\n",
       "      <td>1.0</td>\n",
       "    </tr>\n",
       "    <tr>\n",
       "      <th>6</th>\n",
       "      <td>1.0</td>\n",
       "    </tr>\n",
       "  </tbody>\n",
       "</table>\n",
       "</div>"
      ],
      "text/plain": [
       "   Prediction for spam 0\n",
       "0                    1.0\n",
       "1                    1.0\n",
       "2                    1.0\n",
       "3                    1.0\n",
       "4                    1.0\n",
       "5                    1.0\n",
       "6                    1.0"
      ]
     },
     "execution_count": 52,
     "metadata": {},
     "output_type": "execute_result"
    }
   ],
   "source": [
    "a_t=np.linspace(0,8,7)\n",
    "x_test1=pd.DataFrame({\"Intercept\":np.ones(len(a_t)),\n",
    "                         \"winner\":[1]*len(a_t),\n",
    "                         \"image\":[1]*len(a_t),\n",
    "                         \"attach\":[1]*len(a_t),\n",
    "                         \"years\":[1]*len(a_t),\n",
    "                         \"inherit\":[1]*len(a_t),\n",
    "                         \"number\":[1]*len(a_t),\n",
    "                         \"urg_subj\":[1]*len(a_t)})\n",
    "\n",
    "y_test1=log1.predict(x_test1)\n",
    "a=pd.DataFrame(y_test1)\n",
    "a.columns=[\"Prediction for spam 1\"]\n",
    "x_test0=pd.DataFrame({\"Intercept\":np.ones(len(a_t)),\n",
    "                         \"winner\":[0]*len(a_t),\n",
    "                         \"image\":[0]*len(a_t),\n",
    "                         \"attach\":[0]*len(a_t),\n",
    "                         \"years\":[0]*len(a_t),\n",
    "                        \"inherit\":[0]*len(a_t),\n",
    "                        \"number\":[0]*len(a_t),\n",
    "                         \"urg_subj\":[0]*len(a_t)})\n",
    "y_test0=log1.predict(x_test0)\n",
    "b=pd.DataFrame(y_test0)\n",
    "b.columns=[\"Prediction for spam 0\"]\n",
    "b"
   ]
  },
  {
   "cell_type": "markdown",
   "id": "34cf0df1",
   "metadata": {},
   "source": [
    "# Thresholds:"
   ]
  },
  {
   "cell_type": "code",
   "execution_count": 53,
   "id": "8ad01b7e",
   "metadata": {},
   "outputs": [
    {
     "data": {
      "image/png": "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\n",
      "text/plain": [
       "<Figure size 504x288 with 1 Axes>"
      ]
     },
     "metadata": {
      "needs_background": "light"
     },
     "output_type": "display_data"
    }
   ],
   "source": [
    "y_p=log1.predict(x)\n",
    "d_p=pd.DataFrame({\"Prob\":y_p,\n",
    "                 \"spam\":x[\"image\"]})\n",
    "plt.figure(figsize=(7,4))\n",
    "sns.scatterplot(data=d_p,x=\"Prob\",y=\"spam\",alpha=0.6,s=100)\n",
    "plt.ylim([-0.5,1.5])\n",
    "plt.xlim([0,1])\n",
    "plt.grid()"
   ]
  },
  {
   "cell_type": "code",
   "execution_count": 54,
   "id": "858820e3",
   "metadata": {},
   "outputs": [
    {
     "name": "stdout",
     "output_type": "stream",
     "text": [
      "TP : 0, FN:76,FP:2, TN:3809\n"
     ]
    }
   ],
   "source": [
    "t4=0.75\n",
    "tp=d_p[(d_p[\"spam\"]==1) & (d_p.Prob>=t4)].count()[0]\n",
    "fn=d_p[(d_p[\"spam\"]==1) & (d_p.Prob<t4)].count()[0]\n",
    "fp=d_p[(d_p[\"spam\"]==0) & (d_p.Prob>=t4)].count()[0]\n",
    "tn=d_p[(d_p[\"spam\"]==0) & (d_p.Prob<t4)].count()[0]\n",
    "\n",
    "print(\"TP : {}, FN:{},FP:{}, TN:{}\".format(tp,fn,fp,tn))"
   ]
  },
  {
   "cell_type": "code",
   "execution_count": 37,
   "id": "19420315",
   "metadata": {},
   "outputs": [
    {
     "name": "stdout",
     "output_type": "stream",
     "text": [
      "sensitivity:0.0, specitivity:0.9994752033586985\n"
     ]
    }
   ],
   "source": [
    "senstivity=tp/(tp+fn)\n",
    "specificity=tn/(fp+tn)\n",
    "print(\"sensitivity:{}, specitivity:{}\".format(senstivity,specificity))"
   ]
  },
  {
   "cell_type": "markdown",
   "id": "d04241df",
   "metadata": {},
   "source": [
    "# Conclusion:"
   ]
  },
  {
   "cell_type": "markdown",
   "id": "88d55ee8",
   "metadata": {},
   "source": [
    "Hence,through this project we can conclude that logistic regression is to estimate the probabilities of events of the given dataset, it also including determining a relationship between features or attributes and the probabilities of particular outcomes at each scenario.The correct fit for the model can be accessed through diffrent ways.From starting with the clear analyzation of the dataset to finding the sensitivity of data we performed the logistic regression analysis."
   ]
  },
  {
   "cell_type": "code",
   "execution_count": null,
   "id": "a4cd691c",
   "metadata": {},
   "outputs": [],
   "source": []
  }
 ],
 "metadata": {
  "kernelspec": {
   "display_name": "Python 3",
   "language": "python",
   "name": "python3"
  },
  "language_info": {
   "codemirror_mode": {
    "name": "ipython",
    "version": 3
   },
   "file_extension": ".py",
   "mimetype": "text/x-python",
   "name": "python",
   "nbconvert_exporter": "python",
   "pygments_lexer": "ipython3",
   "version": "3.6.13"
  }
 },
 "nbformat": 4,
 "nbformat_minor": 5
}
